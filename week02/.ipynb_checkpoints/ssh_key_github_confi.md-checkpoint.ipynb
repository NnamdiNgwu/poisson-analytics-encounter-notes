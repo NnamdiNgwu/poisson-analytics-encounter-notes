{
 "cells": [
  {
   "cell_type": "markdown",
   "id": "d4065aab",
   "metadata": {},
   "source": [
    "# Create a github account and connect with SSH key"
   ]
  },
  {
   "cell_type": "markdown",
   "id": "4e376567",
   "metadata": {},
   "source": [
    "* step1\n",
    "\n",
    "Navigate to your browser and type https://github.com\n",
    "create your profile and create a repository name. Repository name is where your code will be deposited, stored."
   ]
  },
  {
   "cell_type": "markdown",
   "id": "b327b657",
   "metadata": {},
   "source": [
    "* step2\n",
    "\n",
    "clone poisson-analytics-student-code in your data-analytics-tutorial in your terminal.\n",
    "\n",
    "reason: this is where your pratical lessons will be pushed and stored. for backup and for the originality of the ownership of the code."
   ]
  },
  {
   "cell_type": "markdown",
   "id": "fdb48783",
   "metadata": {},
   "source": [
    "* step3\n",
    "\n",
    "At the end of todays lesson, you will learn to pull and push your code to github."
   ]
  },
  {
   "cell_type": "markdown",
   "id": "368ee783",
   "metadata": {},
   "source": [
    "* step3\n",
    "\n",
    "working with SSH(Secure Socket Shell) a network protocol that gives system administrator a secure way to access a computer over on an unsecured network.\n",
    "\n",
    "<l1>1<l1> before generating an SSH Key, we will first check if there is na already existing SSH key in our computer\n",
    "using this command \n",
    "\n",
    "$ ls -al ~/.ssh\n",
    "# Lists the files in your .ssh directory, if they exist\n",
    "\n",
    "\n",
    "Check the directory listing to see if you already have a public SSH key. By default, the filenames of supported public keys for GitHub are one of the following.\n",
    "* id_rsa.pub\n",
    "* id_ecdsa.pub\n",
    "* id_ed25519.pub"
   ]
  },
  {
   "cell_type": "markdown",
   "id": "4ad65938",
   "metadata": {},
   "source": [
    "### Generating SSH key if it doesn't exist."
   ]
  },
  {
   "cell_type": "markdown",
   "id": "31dcd966",
   "metadata": {},
   "source": [
    "To generate a new SSH key, we will follow the standard GITHUB instruction from this githib link https://docs.github.com/en/authentication/connecting-to-github-with-ssh/generating-a-new-ssh-key-and-adding-it-to-the-ssh-agent"
   ]
  },
  {
   "cell_type": "markdown",
   "id": "af7cd9c3",
   "metadata": {},
   "source": []
  },
  {
   "cell_type": "markdown",
   "id": "732a5b05",
   "metadata": {},
   "source": []
  },
  {
   "cell_type": "markdown",
   "id": "13337edd",
   "metadata": {},
   "source": [
    "# Install Anaconda\n",
    "\n",
    "### we will install Anaconda in windows computer following the instruction enshrined in Anaconda official documentation.\n",
    "\n",
    "* The link leads to it https://docs.anaconda.com/anaconda/install/windows/"
   ]
  },
  {
   "cell_type": "markdown",
   "id": "1440e4fc",
   "metadata": {},
   "source": [
    "* After intallation of Anaconda, we will use Conda to intall PIP, \n",
    "* we will use Pip to install python \n",
    "* we will use pip to intall jupyternote book"
   ]
  },
  {
   "cell_type": "code",
   "execution_count": null,
   "id": "863307ba",
   "metadata": {},
   "outputs": [],
   "source": []
  }
 ],
 "metadata": {
  "kernelspec": {
   "display_name": "Python 3 (ipykernel)",
   "language": "python",
   "name": "python3"
  },
  "language_info": {
   "codemirror_mode": {
    "name": "ipython",
    "version": 3
   },
   "file_extension": ".py",
   "mimetype": "text/x-python",
   "name": "python",
   "nbconvert_exporter": "python",
   "pygments_lexer": "ipython3",
   "version": "3.9.13"
  }
 },
 "nbformat": 4,
 "nbformat_minor": 5
}
